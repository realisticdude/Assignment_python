{
  "nbformat": 4,
  "nbformat_minor": 0,
  "metadata": {
    "colab": {
      "provenance": []
    },
    "kernelspec": {
      "name": "python3",
      "display_name": "Python 3"
    },
    "language_info": {
      "name": "python"
    }
  },
  "cells": [
    {
      "cell_type": "code",
      "execution_count": null,
      "metadata": {
        "id": "l-rJm70mLqct"
      },
      "outputs": [],
      "source": [
        " #1 Explain the key features of Python that make it a popular choice for programming.\n"
      ]
    },
    {
      "cell_type": "markdown",
      "source": [
        "Keyfeatures of python are :\n",
        "- Easy to learn = it has simple syntax and easy to understand.\n",
        "- Open Source = it is open source language.\n",
        "- Large exensive libraries = it has large selection of free libraries.\n",
        "- Scalable = it is highle scalable.\n",
        "- Platform-agnoustic = it is portable."
      ],
      "metadata": {
        "id": "kyLn6NLYM_xF"
      }
    },
    {
      "cell_type": "code",
      "source": [
        "#2 Describe the role of predefined keywords in Python and provide examples of how they are used in a program"
      ],
      "metadata": {
        "id": "EOvf5ELbOo9w"
      },
      "execution_count": null,
      "outputs": []
    },
    {
      "cell_type": "markdown",
      "source": [
        "##Predefined keywords   = have specific meaning for working programs used to define variables, functions , integers etc.\n",
        "  >Some examples of keywords used in python are =\n",
        "   elif,\n",
        "   continue,\n",
        "   break,\n",
        "   and etc\n",
        "######Here, every keyword has specific function . for example - break statement is used to break the flow of any statement that has been executed . continue is used for skipping specific data ."
      ],
      "metadata": {
        "id": "FBhnQrGwPHu6"
      }
    },
    {
      "cell_type": "code",
      "source": [
        "#3 Compare and contrast mutable and immutable objects in Python with examples"
      ],
      "metadata": {
        "id": "Ua4Vy98SRrci"
      },
      "execution_count": null,
      "outputs": []
    },
    {
      "cell_type": "markdown",
      "source": [
        "###Mutable objects = objects/data types are those whose value can be changed/modified after assigning/created , for example - lists, dictionaries etc\n",
        "###Immutable objects = objects/data types are those whose value cannot be modified after assigning , for example : trings, tuples, and numbers."
      ],
      "metadata": {
        "id": "GOOVlibkR6eV"
      }
    },
    {
      "cell_type": "code",
      "source": [
        "#4 Discuss the different types of operators in Python and provide examples of how they are used0"
      ],
      "metadata": {
        "id": "HQEMINWCTH1T"
      },
      "execution_count": null,
      "outputs": []
    },
    {
      "cell_type": "markdown",
      "source": [
        "###Operators = special keywords or symbols that are used to perform operations on values or variables; to manage and compute.\n",
        "eg : a=5 b=6 , here + is an operator TYPES\n",
        "###>arithmatic operators = used for basic mathematical operations , as + Addition, - Subtraction ,* Multiplication ,/ Division\n",
        " ~modulus operators - gives remainder value. 21 % 4 = 1\n",
        "\n",
        " ~floor operators - gives answer to the nearest value\n",
        "###>comparison operators = used to compare two values , double == sign used to prove equals and != for unequals (true / false) also >= less than equal to, > less than , basically numbers are compared\n",
        "### >logical operators = used to combine conditional statements as - and(1)(true) , or(0)(False)\n",
        "~not operator - not false = true\n",
        "###>assignment operators - a=5 , now if we command a+5 then ,a=10\n",
        "###>membership operators - a = \"art\" then \"a\" in a = true \"j\" in a = false\n",
        "\n",
        "###>identity operators- compares the location of two objects/variables a = 5 , b = 4 , a is b = false a = 5 , b = a , a is b = true\n",
        "###>bitwise operators - operations at bit level, manipulating bits within integers . As =  XOR (exclusive OR) , ~a Bitwise NOT etc"
      ],
      "metadata": {
        "id": "JEjnz8FlT554"
      }
    },
    {
      "cell_type": "code",
      "source": [
        "#5 Explain the concept of type casting in Python with examples"
      ],
      "metadata": {
        "id": "AweZfEbEXwzW"
      },
      "execution_count": null,
      "outputs": []
    },
    {
      "cell_type": "markdown",
      "source": [
        "###Type casting/conversion = the process of changing the data type of a value/object .\n",
        "As\n",
        "> a = \"2\" , b = 5 , a + b = error , but if int(a) + b is done then = 5 , because a is converted from str to int.\n",
        ">similarly float() , str() are used .\n"
      ],
      "metadata": {
        "id": "EAht048kYAT-"
      }
    },
    {
      "cell_type": "code",
      "source": [
        "#6 How do conditional statements work in Python? Illustrate with examples"
      ],
      "metadata": {
        "id": "rPAdd2DlY-zI"
      },
      "execution_count": null,
      "outputs": []
    },
    {
      "cell_type": "markdown",
      "source": [
        "###Conditionals in Python are used to execute code/control the flow of statement based on the evaluation of one or more conditions.\n",
        "such as : if, elif (else if), and else to control the flow of execution.\n",
        "\n",
        "For example, if num > 0: print(\"The number is positive.\")\n",
        "\n",
        "if x > y: print(\"x is greater than y.\") else: print(\"x is smaller than y.\")"
      ],
      "metadata": {
        "id": "CT6sT1XpZF1o"
      }
    },
    {
      "cell_type": "code",
      "source": [
        "#7 Describe the different types of loops in Python and their use cases with examples."
      ],
      "metadata": {
        "id": "LgS7lgjIaGeA"
      },
      "execution_count": null,
      "outputs": []
    },
    {
      "cell_type": "markdown",
      "source": [
        "###Loops are employed to repeat a sequence of actions or code until a specific condition is fulfilled.\n",
        "Python offers two primary types of loops: for loops and while loops.\n",
        "“for” loops are used for iterating over a sequence of ,\n",
        "formexample\n",
        "\n",
        " fruits = [\"apple\", \"banana\", \"cherry\"]\n",
        "\n",
        "for x in fruits:\n",
        "\n",
        "  print(x)\n",
        "\n",
        "while “while” loops are used for executing code until a specified condition becomes False,For example, to find how many times a number can be divided by 2 before it's less than or equal to 1, you can use a while loop.\n",
        "\n",
        "\n",
        "and \"Nested\" Loop = If a loop exists inside the body of another loop ."
      ],
      "metadata": {
        "id": "TU76-n2oaNma"
      }
    }
  ]
}