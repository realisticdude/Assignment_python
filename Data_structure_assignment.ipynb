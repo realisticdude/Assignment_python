{
  "nbformat": 4,
  "nbformat_minor": 0,
  "metadata": {
    "colab": {
      "provenance": []
    },
    "kernelspec": {
      "name": "python3",
      "display_name": "Python 3"
    },
    "language_info": {
      "name": "python"
    }
  },
  "cells": [
    {
      "cell_type": "code",
      "execution_count": 1,
      "metadata": {
        "id": "gYlYY7rvj8ya"
      },
      "outputs": [],
      "source": [
        "\n"
      ]
    },
    {
      "cell_type": "markdown",
      "source": [
        "#Q1. Discuss string slicing and provide examples?\n",
        "###>String slicing is a way to get specific parts of a string by using start, end, and step values.\n",
        "##for example\n"
      ],
      "metadata": {
        "id": "8W_zV1VclBXk"
      }
    },
    {
      "cell_type": "code",
      "source": [
        "my_string = \"Dr. is busy\"\n",
        "my_string[3:7]"
      ],
      "metadata": {
        "colab": {
          "base_uri": "https://localhost:8080/",
          "height": 35
        },
        "id": "mnX8z_1mllrM",
        "outputId": "3a73e346-5ce3-410c-d2ae-fde73815eb65"
      },
      "execution_count": 2,
      "outputs": [
        {
          "output_type": "execute_result",
          "data": {
            "text/plain": [
              "' is '"
            ],
            "application/vnd.google.colaboratory.intrinsic+json": {
              "type": "string"
            }
          },
          "metadata": {},
          "execution_count": 2
        }
      ]
    },
    {
      "cell_type": "markdown",
      "source": [
        "#Q2. Explain the key features of lists in Python?\n",
        "###>key features of list are :\n",
        ">mutable\n",
        "\n",
        ">ordered\n",
        "\n",
        ">can hold items of various types\n",
        "\n",
        "example ; shopping list"
      ],
      "metadata": {
        "id": "qXAOWQoHmIFK"
      }
    },
    {
      "cell_type": "markdown",
      "source": [
        "#Q3. Describe how to access, modify, and delete elements in a list with examples?\n",
        "###>to access element in a list :\n",
        ">list[index]\n",
        "##for example"
      ],
      "metadata": {
        "id": "1ebVLLuxnKdP"
      }
    },
    {
      "cell_type": "code",
      "source": [
        "shopping_list= [\"apples\", \"milk\", \"butter\"]\n",
        "shopping_list[2]"
      ],
      "metadata": {
        "colab": {
          "base_uri": "https://localhost:8080/",
          "height": 35
        },
        "id": "eiGFujnOnJGM",
        "outputId": "acd2ca35-059a-4da4-9c93-7df1cc23e855"
      },
      "execution_count": 3,
      "outputs": [
        {
          "output_type": "execute_result",
          "data": {
            "text/plain": [
              "'butter'"
            ],
            "application/vnd.google.colaboratory.intrinsic+json": {
              "type": "string"
            }
          },
          "metadata": {},
          "execution_count": 3
        }
      ]
    },
    {
      "cell_type": "markdown",
      "source": [
        "###>to modify element in a list\n",
        ">access the indexing of list and assign a new value\n",
        "##for example"
      ],
      "metadata": {
        "id": "WWW5JiK3o6_4"
      }
    },
    {
      "cell_type": "code",
      "source": [
        "shopping_list= [\"apples\", \"milk\", \"butter\"]\n",
        "shopping_list[2] = \"cake\"\n",
        "shopping_list"
      ],
      "metadata": {
        "colab": {
          "base_uri": "https://localhost:8080/"
        },
        "id": "pM4qkNe3o24C",
        "outputId": "1226578e-3c43-4480-a6f0-80a6cb9f0672"
      },
      "execution_count": 5,
      "outputs": [
        {
          "output_type": "execute_result",
          "data": {
            "text/plain": [
              "['apples', 'milk', 'cake']"
            ]
          },
          "metadata": {},
          "execution_count": 5
        }
      ]
    },
    {
      "cell_type": "markdown",
      "source": [
        "###>to delete element in a list\n",
        ">list.remove(\"  \")\n",
        "\n",
        "##for example"
      ],
      "metadata": {
        "id": "wofoirhRpncA"
      }
    },
    {
      "cell_type": "code",
      "source": [
        "shopping_list= [\"apples\", \"milk\", \"butter\"]\n",
        "shopping_list.remove(\"milk\")\n",
        "shopping_list"
      ],
      "metadata": {
        "colab": {
          "base_uri": "https://localhost:8080/"
        },
        "id": "nnPzXxNVphfB",
        "outputId": "898797e6-f7eb-4118-813c-6b676f17dc20"
      },
      "execution_count": 6,
      "outputs": [
        {
          "output_type": "execute_result",
          "data": {
            "text/plain": [
              "['apples', 'butter']"
            ]
          },
          "metadata": {},
          "execution_count": 6
        }
      ]
    },
    {
      "cell_type": "markdown",
      "source": [
        "#Q4. Compare and contrast tuples and lists with examples?\n",
        "###>Tuples = Ordered, immutable collections of elements, similar to lists. However, once created, the items in a tuple cannot be changed. They provide a secure way to store data that shouldn't be modified.\n",
        "##example :\n",
        "###my_tuple = (1,\"time\", 10.5)\n",
        "###>lists = Ordered, mutable collections of elements.Lists can hold items of various data types.\n",
        "\n",
        "##for example\n",
        "shopping_list= [\"apples\", \"milk\", \"butter\"]"
      ],
      "metadata": {
        "id": "PIdtiCl-qU0e"
      }
    },
    {
      "cell_type": "markdown",
      "source": [
        "#Q5.  Describe the key features of sets and provide examples of their use?\n",
        "###>key features of sets are:\n",
        "unordered\n",
        "\n",
        "no duplicate entries are allowed\n",
        "\n",
        "immutable\n",
        "\n",
        " Sets are useful for checking membership (if an item exists) or finding the intersection/difference between sets\n",
        "\n",
        "##for example"
      ],
      "metadata": {
        "id": "oeSwKo4Wrm3O"
      }
    },
    {
      "cell_type": "code",
      "source": [
        "basket = {\"apples\",\"mangoes\",\"bananas\",\"apples\",\"mangoes\"}\n",
        "\"bananas\" in basket"
      ],
      "metadata": {
        "colab": {
          "base_uri": "https://localhost:8080/"
        },
        "id": "8TckjHUdqR7u",
        "outputId": "182b2e01-151a-4cb1-f16d-c93cacbccb42"
      },
      "execution_count": 10,
      "outputs": [
        {
          "output_type": "execute_result",
          "data": {
            "text/plain": [
              "True"
            ]
          },
          "metadata": {},
          "execution_count": 10
        }
      ]
    },
    {
      "cell_type": "code",
      "source": [
        "basket"
      ],
      "metadata": {
        "colab": {
          "base_uri": "https://localhost:8080/"
        },
        "id": "dw3R2syxs0-J",
        "outputId": "9893ea31-7823-41fe-ddb1-5ae137925376"
      },
      "execution_count": 11,
      "outputs": [
        {
          "output_type": "execute_result",
          "data": {
            "text/plain": [
              "{'apples', 'bananas', 'mangoes'}"
            ]
          },
          "metadata": {},
          "execution_count": 11
        }
      ]
    },
    {
      "cell_type": "markdown",
      "source": [
        "#Q6.  Discuss the use cases of tuples and sets in Python programming.\n",
        "###>Tuples are immutable collections of variables, so they can't be changed after creation. Sets are mutable collections of variables, so sets can be changed after creation.\n",
        "The better choice is set because it allows us to add or remove items while the Set is in use."
      ],
      "metadata": {
        "id": "v-C_7J2YtF99"
      }
    },
    {
      "cell_type": "markdown",
      "source": [
        "#Q7.  Describe how to add, modify, and delete items in a dictionary with examples?\n",
        "###>to add item in a dictionary\n",
        "Use direct assignment (dictionary_name[key] = value)\n",
        "##for example"
      ],
      "metadata": {
        "id": "JOJVxgBVtdsK"
      }
    },
    {
      "cell_type": "code",
      "source": [
        "my_dictionary = {\"name\":\"Bob\",\n",
        "                 \"age\": 20}\n",
        "my_dictionary[1] = \"time\"\n",
        "my_dictionary\n"
      ],
      "metadata": {
        "colab": {
          "base_uri": "https://localhost:8080/"
        },
        "id": "u1Kgjs6-tDp-",
        "outputId": "ac1285af-ee35-411c-c31c-dc72602bda45"
      },
      "execution_count": 18,
      "outputs": [
        {
          "output_type": "execute_result",
          "data": {
            "text/plain": [
              "{'name': 'Bob', 'age': 20, 1: 'time'}"
            ]
          },
          "metadata": {},
          "execution_count": 18
        }
      ]
    },
    {
      "cell_type": "markdown",
      "source": [
        "###>to modify item in a dictionary\n",
        "my_dictionary[\"name\"]=\"new value\"\n",
        "##for example\n"
      ],
      "metadata": {
        "id": "R8xRdGfWun4U"
      }
    },
    {
      "cell_type": "code",
      "source": [
        "my_dictionary = {\"name\":\"Bob\",\n",
        "                 \"age\": 20}\n",
        "my_dictionary[\"name\"] = \"veer\"\n",
        "my_dictionary\n",
        "\n"
      ],
      "metadata": {
        "colab": {
          "base_uri": "https://localhost:8080/"
        },
        "id": "ls8U_a5HuPqQ",
        "outputId": "c0227701-b635-4bd7-d7a0-7096280604f7"
      },
      "execution_count": 24,
      "outputs": [
        {
          "output_type": "execute_result",
          "data": {
            "text/plain": [
              "{'name': 'veer', 'age': 20}"
            ]
          },
          "metadata": {},
          "execution_count": 24
        }
      ]
    },
    {
      "cell_type": "markdown",
      "source": [
        "###>to delete an item in a dictionary\n",
        "Use del dictionary_name[key]\n",
        "##for example"
      ],
      "metadata": {
        "id": "UBVzUuXHvo1_"
      }
    },
    {
      "cell_type": "code",
      "source": [
        "my_dictionary = {\"name\":\"Bob\",\n",
        "                 \"age\": 20}\n",
        "del my_dictionary[\"age\"]\n",
        "print(my_dictionary)"
      ],
      "metadata": {
        "colab": {
          "base_uri": "https://localhost:8080/"
        },
        "id": "WLMNZ_jEvOVz",
        "outputId": "552c64e0-a93a-4314-b9af-830c73c62237"
      },
      "execution_count": 31,
      "outputs": [
        {
          "output_type": "stream",
          "name": "stdout",
          "text": [
            "{'name': 'Bob'}\n"
          ]
        }
      ]
    },
    {
      "cell_type": "markdown",
      "source": [
        "#Q8.  Discuss the importance of dictionary keys being immutable and provide example.\n",
        "###>Importance of dictionary keys being immutable is because  Immutable keys ensure the integrity of the dictionary's internal structure. If keys were mutable, their values could change, leading to inconsistencies in the dictionary.Dictionaries uses a hash value for a key and if a key is mutable its hash value would also be changed.\n",
        "##for example\n"
      ],
      "metadata": {
        "id": "-VJ4q39swcoJ"
      }
    },
    {
      "cell_type": "code",
      "source": [
        "my_dict = {\"name\":\"Arya\",\n",
        "           \"age\":20}\n",
        "my_dict.update[1] = \"Name\"\n",
        "my_dict"
      ],
      "metadata": {
        "colab": {
          "base_uri": "https://localhost:8080/",
          "height": 193
        },
        "id": "VTHitEcswCe8",
        "outputId": "a30ff042-0aaf-4ee8-9d20-293f946ad322"
      },
      "execution_count": 54,
      "outputs": [
        {
          "output_type": "error",
          "ename": "TypeError",
          "evalue": "'builtin_function_or_method' object does not support item assignment",
          "traceback": [
            "\u001b[0;31m---------------------------------------------------------------------------\u001b[0m",
            "\u001b[0;31mTypeError\u001b[0m                                 Traceback (most recent call last)",
            "\u001b[0;32m<ipython-input-54-95e79876f3b7>\u001b[0m in \u001b[0;36m<cell line: 3>\u001b[0;34m()\u001b[0m\n\u001b[1;32m      1\u001b[0m my_dict = {\"name\":\"Arya\",\n\u001b[1;32m      2\u001b[0m            \"age\":20}\n\u001b[0;32m----> 3\u001b[0;31m \u001b[0mmy_dict\u001b[0m\u001b[0;34m.\u001b[0m\u001b[0mupdate\u001b[0m\u001b[0;34m[\u001b[0m\u001b[0;36m1\u001b[0m\u001b[0;34m]\u001b[0m \u001b[0;34m=\u001b[0m \u001b[0;34m\"Name\"\u001b[0m\u001b[0;34m\u001b[0m\u001b[0;34m\u001b[0m\u001b[0m\n\u001b[0m\u001b[1;32m      4\u001b[0m \u001b[0mmy_dict\u001b[0m\u001b[0;34m\u001b[0m\u001b[0;34m\u001b[0m\u001b[0m\n",
            "\u001b[0;31mTypeError\u001b[0m: 'builtin_function_or_method' object does not support item assignment"
          ]
        }
      ]
    },
    {
      "cell_type": "code",
      "source": [],
      "metadata": {
        "id": "J4eXqqkdyvls"
      },
      "execution_count": null,
      "outputs": []
    }
  ]
}